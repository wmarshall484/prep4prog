{
 "cells": [
  {
   "cell_type": "markdown",
   "metadata": {},
   "source": [
    "### Does He Go To Napa?\n",
    "\n",
    "The cop-turned-criminal was deligted to realize that the warden's brand new Macbook Air comes with Python 3.4 preinstalled. As such, it was simple to write an inefficent brute-force solution which compares every number to every other number.\n",
    "\n",
    "First, he imports the list of cell numbers:"
   ]
  },
  {
   "cell_type": "code",
   "execution_count": 1,
   "metadata": {
    "collapsed": false
   },
   "outputs": [
    {
     "name": "stdout",
     "output_type": "stream",
     "text": [
      "There are 275432 cells, 275431 of which are unique.\n"
     ]
    }
   ],
   "source": [
    "# NOTE: I don't have an actual list of cell numbers, so I'm just going to create them here\n",
    "import random\n",
    "cell_numbers = [x for x in range(275432)]\n",
    "cell_numbers[random.randint(0, 275432)] = random.randint(0, 275432)\n",
    "\n",
    "print(\"There are {} cells, {} of which are unique.\".format(len(cell_numbers), len(cell_numbers)-1))"
   ]
  },
  {
   "cell_type": "markdown",
   "metadata": {},
   "source": [
    "### Brute Force\n",
    "Brute forcing it was only a few lines of code"
   ]
  },
  {
   "cell_type": "code",
   "execution_count": 2,
   "metadata": {
    "collapsed": false
   },
   "outputs": [
    {
     "name": "stdout",
     "output_type": "stream",
     "text": [
      "This method way too long as it is an approach that has an order of N^2\n"
     ]
    }
   ],
   "source": [
    "try:\n",
    "    for idx, cell_num in enumerate(cell_numbers):\n",
    "        for inner_idx, inner_cell_num in enumerate(cell_numbers[idx+1:]):\n",
    "            if cell_num == inner_cell_num:\n",
    "                print(\"The duplicated cell number is {}\".format(cell_num))\n",
    "                break\n",
    "except:\n",
    "    print(\"This method way too long as it is an approach that has an order of N^2\")"
   ]
  },
  {
   "cell_type": "markdown",
   "metadata": {},
   "source": [
    "### Time complexity\n",
    "Quickly, he realizes that he needs a different approach. Enter hashtables! This approach is order of N."
   ]
  },
  {
   "cell_type": "code",
   "execution_count": 3,
   "metadata": {
    "collapsed": false
   },
   "outputs": [
    {
     "name": "stdout",
     "output_type": "stream",
     "text": [
      "The repeated cell numbers is 149610\n"
     ]
    }
   ],
   "source": [
    "from collections import Counter\n",
    "nums = Counter(cell_numbers)\n",
    "print(\"The repeated cell numbers is {}\".format(nums.most_common(1)[0][0]))"
   ]
  },
  {
   "cell_type": "markdown",
   "metadata": {},
   "source": [
    "The program completes almost immediately. Looks like he's going to miss his \"party\" -- what a shame!"
   ]
  },
  {
   "cell_type": "code",
   "execution_count": null,
   "metadata": {
    "collapsed": true
   },
   "outputs": [],
   "source": []
  }
 ],
 "metadata": {
  "kernelspec": {
   "display_name": "Python 3",
   "language": "python",
   "name": "python3"
  },
  "language_info": {
   "codemirror_mode": {
    "name": "ipython",
    "version": 3
   },
   "file_extension": ".py",
   "mimetype": "text/x-python",
   "name": "python",
   "nbconvert_exporter": "python",
   "pygments_lexer": "ipython3",
   "version": "3.4.3"
  }
 },
 "nbformat": 4,
 "nbformat_minor": 0
}

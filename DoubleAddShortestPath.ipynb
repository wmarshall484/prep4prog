{
 "cells": [
  {
   "cell_type": "code",
   "execution_count": 3,
   "metadata": {
    "collapsed": false
   },
   "outputs": [],
   "source": [
    "def findShortestSteps(current_amount, past_steps, end_amount):\n",
    "    if current_amount == end_amount:\n",
    "        return past_steps\n",
    "    if current_amount > end_amount:\n",
    "        return None\n",
    "    tmp1 = [x for x in past_steps]\n",
    "    tmp1.append(1)\n",
    "    tmp2 = [x for x in past_steps]\n",
    "    tmp2.append(0)\n",
    "    double_step = findShortestSteps(current_amount * 2, tmp1, end_amount)\n",
    "    plus_5_steps = findShortestSteps(current_amount + 0.05, tmp2, end_amount)\n",
    "    if double_step is None:\n",
    "        return plus_5_steps\n",
    "    elif plus_5_steps is None:\n",
    "        return double_step\n",
    "    else:\n",
    "        if len(plus_5_steps) >= len(double_step):\n",
    "            return double_step\n",
    "        return plus_5_steps\n"
   ]
  },
  {
   "cell_type": "code",
   "execution_count": 4,
   "metadata": {
    "collapsed": false,
    "scrolled": true
   },
   "outputs": [
    {
     "data": {
      "text/plain": [
       "[1, 1, 0, 0, 1, 1, 0, 1, 1, 1]"
      ]
     },
     "execution_count": 4,
     "metadata": {},
     "output_type": "execute_result"
    }
   ],
   "source": [
    "findShortestSteps(0.05, [], 10.0)"
   ]
  },
  {
   "cell_type": "code",
   "execution_count": 6,
   "metadata": {
    "collapsed": true
   },
   "outputs": [],
   "source": [
    "a = [1, 1, 0, 0, 1, 1, 0, 1, 1, 1]"
   ]
  },
  {
   "cell_type": "code",
   "execution_count": 7,
   "metadata": {
    "collapsed": false
   },
   "outputs": [
    {
     "name": "stdout",
     "output_type": "stream",
     "text": [
      "0.05\n",
      "0.1\n",
      "0.2\n",
      "0.25\n",
      "0.3\n",
      "0.6\n",
      "1.2\n",
      "1.25\n",
      "2.5\n",
      "5.0\n",
      "10.0\n"
     ]
    }
   ],
   "source": [
    "init = 0.05\n",
    "print(init)\n",
    "for x in a:\n",
    "    if x == 0:\n",
    "        init = init + 0.05\n",
    "    else:\n",
    "        init = init * 2\n",
    "    print(init)"
   ]
  },
  {
   "cell_type": "code",
   "execution_count": 8,
   "metadata": {
    "collapsed": false
   },
   "outputs": [
    {
     "data": {
      "text/plain": [
       "10"
      ]
     },
     "execution_count": 8,
     "metadata": {},
     "output_type": "execute_result"
    }
   ],
   "source": [
    "len(a)"
   ]
  },
  {
   "cell_type": "code",
   "execution_count": null,
   "metadata": {
    "collapsed": true
   },
   "outputs": [],
   "source": []
  }
 ],
 "metadata": {
  "kernelspec": {
   "display_name": "Python 3",
   "language": "python",
   "name": "python3"
  },
  "language_info": {
   "codemirror_mode": {
    "name": "ipython",
    "version": 3
   },
   "file_extension": ".py",
   "mimetype": "text/x-python",
   "name": "python",
   "nbconvert_exporter": "python",
   "pygments_lexer": "ipython3",
   "version": "3.4.3"
  }
 },
 "nbformat": 4,
 "nbformat_minor": 0
}
